{
 "cells": [
  {
   "cell_type": "code",
   "execution_count": null,
   "metadata": {},
   "outputs": [],
   "source": [
    "def Get_data(folder_path):\n",
    "    \n",
    "    T1 = glob.glob(folder_path)\n",
    "    images_T1 = []\n",
    "    for f in range(len(T1)):\n",
    "        a_T1 = nib.load(T1[f])\n",
    "        a_T1 = a_T1.get_data()\n",
    "        a_T1 = a_T1[:,78:129,:]\n",
    "        for i in range(a_T1.shape[1]):\n",
    "            images_T1.append((a_T1[:,i,:]))\n",
    "\n",
    "    a_T1[:,0,:].shape\n",
    "    images_T1 = np.asarray(images_T1)\n",
    "    images_T1.shape\n",
    "    images_T1 = images_T1.reshape(-1, 256,320,1)\n",
    "    images_T1.shape\n",
    "    m_T1 = np.max(images_T1)\n",
    "    mi_T1 = np.min(images_T1)\n",
    "\n",
    "    images_T1 = (images_T1 - mi_T1) / (m_T1 - mi_T1)\n",
    "\n",
    "    np.min(images_T1), np.max(images_T1)\n",
    "\n",
    "    train_X_T1,valid_X_T1,train_ground_T1,valid_ground_T1 = train_test_split(images_T1,images_T1,test_size=0.2,random_state=13)\n",
    "\n",
    "    return train_X_T1,valid_X_T1,train_ground_T1,valid_ground_T1"
   ]
  }
 ],
 "metadata": {
  "kernelspec": {
   "display_name": "Python 3",
   "language": "python",
   "name": "python3"
  },
  "language_info": {
   "codemirror_mode": {
    "name": "ipython",
    "version": 3
   },
   "file_extension": ".py",
   "mimetype": "text/x-python",
   "name": "python",
   "nbconvert_exporter": "python",
   "pygments_lexer": "ipython3",
   "version": "3.6.5"
  }
 },
 "nbformat": 4,
 "nbformat_minor": 2
}
